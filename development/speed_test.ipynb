{
 "cells": [
  {
   "cell_type": "markdown",
   "metadata": {},
   "source": [
    "## Speed test for functions `combine_bincounts_kernel_weights` and `bin_counts_and_averages`"
   ]
  },
  {
   "cell_type": "code",
   "execution_count": 1,
   "metadata": {},
   "outputs": [],
   "source": [
    "import numpy as np\n",
    "import random\n",
    "import numba\n",
    "import math"
   ]
  },
  {
   "cell_type": "markdown",
   "metadata": {},
   "source": [
    "For the *Local Instrumental Variable* (LIV) method, which will be added to the `grmpy` package, only the case with a single global bandwidth parameter is relevant. <br>\n",
    "Currently, users have the option to provide an array or list of `M` local bandwidths, where `M`\n",
    "is the number of equally-spaced gridpoint, as well. I might remove this feature, as it is not needed for `grmpy`. As a result, the variable `bwdisc` would be redundant."
   ]
  },
  {
   "cell_type": "code",
   "execution_count": 2,
   "metadata": {},
   "outputs": [],
   "source": [
    "np.random.seed(1111)"
   ]
  },
  {
   "cell_type": "code",
   "execution_count": 3,
   "metadata": {},
   "outputs": [],
   "source": [
    "a = 0.005\n",
    "b = 0.995\n",
    "degree = 2 \n",
    "bwdisc = 1\n",
    "M = 500\n",
    "bw = 0.322\n",
    "tau = 4"
   ]
  },
  {
   "cell_type": "code",
   "execution_count": 4,
   "metadata": {},
   "outputs": [],
   "source": [
    "pp = degree + 1\n",
    "ppp = 2 * degree + 1\n",
    "delta = (b - a) / (M - 1)"
   ]
  },
  {
   "cell_type": "code",
   "execution_count": null,
   "metadata": {},
   "outputs": [],
   "source": []
  },
  {
   "cell_type": "markdown",
   "metadata": {},
   "source": [
    "### 1) Function `combine_bincounts_kernel_weights`"
   ]
  },
  {
   "cell_type": "code",
   "execution_count": 5,
   "metadata": {},
   "outputs": [],
   "source": [
    "L = math.floor(tau * bw / delta)\n",
    "hdisc = bw\n",
    "\n",
    "# Index set\n",
    "indic = np.ones(M)"
   ]
  },
  {
   "cell_type": "code",
   "execution_count": 6,
   "metadata": {},
   "outputs": [],
   "source": [
    "dimfkap = 2 * L + 1\n",
    "midpt = L + 1"
   ]
  },
  {
   "cell_type": "code",
   "execution_count": 7,
   "metadata": {},
   "outputs": [],
   "source": [
    "xcnts = np.random.uniform(0, 10, (M,))\n",
    "ycnts = np.random.uniform(0, 10, (M,))"
   ]
  },
  {
   "cell_type": "code",
   "execution_count": 8,
   "metadata": {},
   "outputs": [],
   "source": [
    "fkap = np.append(np.linspace(0.00035, 1, L+1), np.linspace(1, 0.00035, L+1)[1:])"
   ]
  },
  {
   "cell_type": "code",
   "execution_count": null,
   "metadata": {},
   "outputs": [],
   "source": []
  },
  {
   "cell_type": "code",
   "execution_count": 9,
   "metadata": {},
   "outputs": [],
   "source": [
    "def combine_bincounts_kernel_weights(\n",
    "    xcnts, ycnts, bwdisc, M, pp, ppp, dimfkap, fkap, L, midpt, indic, delta\n",
    "):\n",
    "    \"\"\"\n",
    "    This function combines the bin counts (xcnts) and bin averages (ycnts) with\n",
    "    kernel weights via a series of direct convolutions. As a result, binned\n",
    "    approximations to X'W X and X'W y, denoted by ss and tt, are computed.\n",
    "\n",
    "    Recall that the local polynomial curve estimator beta_ and its derivatives are\n",
    "    minimizers to a locally weighted least-squares problem. At each grid\n",
    "    point g = 1,..., M in the grid, beta_ is computed as the solution to the\n",
    "    linear matrix equation:\n",
    "\n",
    "    X'W X * beta_ = X'W y,\n",
    "\n",
    "    where W are kernel weights approximated by the Gaussian density function.\n",
    "    X'W X and X'W y are approximated by ss and tt,\n",
    "    which are the result of a direct convolution of bin counts (xcnts) and kernel\n",
    "    weights, and bin averages (ycnts) and kernel weights, respectively.\n",
    "\n",
    "    The terms \"kernel\" and \"kernel function\" are used interchangeably\n",
    "    throughout.\n",
    "\n",
    "    For more information see the documentation of the main function locpoly\n",
    "    under KernReg.locpoly.\n",
    "\n",
    "    Parameters\n",
    "    ----------\n",
    "    xcnts: np.ndarry\n",
    "        1-D array of binned x-values (\"bin counts\") of length M.\n",
    "    ycnts: np.ndarry\n",
    "        1-D array of binned y-values (\"bin averages\") of length M.\n",
    "    bwdisc: int\n",
    "        Number of logarithmically equally-spaced bandwidths\n",
    "        on which local bandwidths are discretized, to speed up computation.\n",
    "        For the case where 'bandwidth' is a scalar, bwdisc equals 1.\n",
    "    M: int\n",
    "        Gridsize, i.e. number of equally-spaced grid points.\n",
    "    pp: int\n",
    "        Number of columns of output array tt, i.e the binned approximation to X'W y.\n",
    "        Degree + 1 (for degree = 2, pp equals 3).\n",
    "    ppp: int\n",
    "        Number of columns of output array ss, i.e. the binned approximation to X'W X.\n",
    "        2 * degree + 1 (for degree = 2, ppp equals 5).\n",
    "    dimfkap: int\n",
    "        Length of 1-D array fkap.\n",
    "    fkap: np.ndarry\n",
    "        1-D array of length dimfkap containing\n",
    "        approximated weights for the Gaussian kernel\n",
    "        (W in the notation above).\n",
    "    L: int or np.ndarry of length bwdisc\n",
    "        Parameter defining the number of times the kernel function\n",
    "        has to be evaluated.\n",
    "        For the case where 'bandwidth' is a scalar, L is an integer.\n",
    "        Note that L < N, where N is the total number of observations.\n",
    "    midpt: int or np.ndarray of length bwdisc.\n",
    "        For the case where 'bandwidth' is a scalar, midpt is an integer.\n",
    "        Midpoint of fkap.\n",
    "    indic: np.ndarry\n",
    "        1-D array of length M containing ones.\n",
    "        These are used as index values.\n",
    "    delta: float\n",
    "        Bin width.\n",
    "\n",
    "    Returns\n",
    "    -------\n",
    "    ss: np.ndarry\n",
    "        Dimensions (M, ppp). Binned approximation to X'W X.\n",
    "    tt: np.ndarry\n",
    "        Dimensions (M, pp). Binned approximation to X'W y.\n",
    "    \"\"\"\n",
    "    ss = np.zeros((M, ppp))\n",
    "    tt = np.zeros((M, pp))\n",
    "\n",
    "    # Distinguish two cases:\n",
    "    # a) Bandwidth is a scalar\n",
    "    if bwdisc == 1:\n",
    "        for g in range(M):\n",
    "            if xcnts[g] != 0:\n",
    "                for j in range(max(0, g - L - 1), min(M, g + L)):\n",
    "\n",
    "                    # Only consider values within the range of fkap.\n",
    "                    if (g - j + midpt - 1) in range(dimfkap):\n",
    "                        if indic[j] == 1:\n",
    "\n",
    "                            fac = 1\n",
    "\n",
    "                            ss[j, 0] += xcnts[g] * fkap[g - j + midpt - 1]\n",
    "                            tt[j, 0] += ycnts[g] * fkap[g - j + midpt - 1]\n",
    "\n",
    "                            for ii in range(1, ppp):\n",
    "                                fac = fac * delta * (g - j)\n",
    "\n",
    "                                ss[j, ii] += xcnts[g] * fkap[g - j + midpt - 1] * fac\n",
    "\n",
    "                                if ii < pp:\n",
    "                                    tt[j, ii] += (\n",
    "                                        ycnts[g] * fkap[g - j + midpt - 1] * fac\n",
    "                                    )\n",
    "\n",
    "    # b) Bandwidth is a list or np.ndarray of length M\n",
    "    else:\n",
    "        for g in range(M):\n",
    "            if xcnts[g] != 0:\n",
    "\n",
    "                # Repeat this process bwdisc times.\n",
    "                for i in range(bwdisc):\n",
    "                    for j in range(max(0, g - L[i] - 1), min(M, g + L[i])):\n",
    "\n",
    "                        # Only consider values within the range of fkap.\n",
    "                        if (g - j + midpt[i] - 1) in range(dimfkap):\n",
    "                            if indic[j] == 1:\n",
    "\n",
    "                                fac = 1\n",
    "\n",
    "                                ss[j, 0] += xcnts[g] * fkap[g - j + midpt[i] - 1]\n",
    "\n",
    "                                tt[j, 0] += ycnts[g] * fkap[g - j + midpt[i] - 1]\n",
    "\n",
    "                                for ii in range(1, ppp):\n",
    "                                    fac = fac * delta * (g - j)\n",
    "\n",
    "                                    ss[j, ii] += (\n",
    "                                        xcnts[g] * fkap[g - j + midpt[i] - 1] * fac\n",
    "                                    )\n",
    "\n",
    "                                    if ii < pp:\n",
    "                                        tt[j, ii] += (\n",
    "                                            ycnts[g] * fkap[g - j + midpt[i] - 1] * fac\n",
    "                                        )\n",
    "\n",
    "    return ss, tt"
   ]
  },
  {
   "cell_type": "code",
   "execution_count": null,
   "metadata": {},
   "outputs": [],
   "source": []
  },
  {
   "cell_type": "code",
   "execution_count": 10,
   "metadata": {},
   "outputs": [
    {
     "name": "stdout",
     "output_type": "stream",
     "text": [
      "2.75 s ± 171 ms per loop (mean ± std. dev. of 7 runs, 1 loop each)\n"
     ]
    }
   ],
   "source": [
    "%%timeit \n",
    "ss, tt = combine_bincounts_kernel_weights(\n",
    "    xcnts, ycnts, bwdisc, M, pp, ppp, dimfkap, fkap, L, midpt, indic, delta\n",
    ")"
   ]
  },
  {
   "cell_type": "code",
   "execution_count": null,
   "metadata": {},
   "outputs": [],
   "source": []
  },
  {
   "cell_type": "code",
   "execution_count": null,
   "metadata": {},
   "outputs": [],
   "source": []
  },
  {
   "cell_type": "code",
   "execution_count": null,
   "metadata": {},
   "outputs": [],
   "source": []
  },
  {
   "cell_type": "code",
   "execution_count": null,
   "metadata": {},
   "outputs": [],
   "source": []
  },
  {
   "cell_type": "markdown",
   "metadata": {},
   "source": [
    "### 2) Function `bin_counts_and_averages`"
   ]
  },
  {
   "cell_type": "code",
   "execution_count": 11,
   "metadata": {},
   "outputs": [],
   "source": [
    "N = 1500\n",
    "x = np.linspace(0.05, 0.97, N)\n",
    "y = np.linspace(30, -7, N)"
   ]
  },
  {
   "cell_type": "code",
   "execution_count": null,
   "metadata": {},
   "outputs": [],
   "source": []
  },
  {
   "cell_type": "code",
   "execution_count": 12,
   "metadata": {},
   "outputs": [],
   "source": [
    "def bin_counts_and_averages(x, y, M=401, a=None, delta=None, truncate=True):\n",
    "    \"\"\"\n",
    "    This function generates bin counts and bin averages over an equally spaced\n",
    "    grid via the linear binning strategy.\n",
    "    In essence, bin counts are obtained by assigning the raw data to\n",
    "    neighboring grid points. A bin count can be thought of as representing the\n",
    "    amount of data in the neighborhood of its corresponding grid point.\n",
    "    Counts on the y-axis display the respective bin averages.\n",
    "\n",
    "    The linear binning strategy is based on the linear transformation\n",
    "    lxi = ((x - a) / delta) + 1, calculated for each observation\n",
    "    x_i, i = 1, ... n. Its integer part, denoted by li, indicates the two\n",
    "    nearest bin centers to x_i. This calculation already does the trick\n",
    "    for simple binning. For linear binning, however, we additonally compute the\n",
    "    \"fractional part\" or \"remainder\", lxi - li, which gives the weights\n",
    "    attached to the two nearest bin centers, namely (1 - rem) for the bin\n",
    "    considered and rem for the next bin.\n",
    "\n",
    "    If trunctate is True, end observations are truncated.\n",
    "    Otherwise, weight from end observations is given to corresponding\n",
    "    end grid points.\n",
    "\n",
    "    Parameters\n",
    "    ----------\n",
    "    x: np.ndarray\n",
    "        Array of the predictor variable(s). Shape (N, r).\n",
    "        Missing values are not accepted. Must be sorted.\n",
    "    y: np.ndarray\n",
    "        Array of the response variable of length N.\n",
    "        Missing values are not accepted. Must come presorted by x.\n",
    "    M: int\n",
    "        Size of the grid mesh over which x and y are to be evaluated.\n",
    "    a: float\n",
    "        Start point of the grid.\n",
    "    delta: float\n",
    "        Bin width.\n",
    "    truncate: bool\n",
    "        If True, then endpoints are truncated.\n",
    "\n",
    "    Returns\n",
    "    -------\n",
    "    xcounts: np.ndarry\n",
    "        1-D array of binned x-values (\"bin counts\") of length M.\n",
    "    ycounts: np.ndarry\n",
    "        1-D array of binned y-values (\"bin averages\") of length M.\n",
    "    \"\"\"\n",
    "    # Turn r-dimensional array into 1-d array.\n",
    "    if x.ndim > 1:\n",
    "        x = x.ravel()\n",
    "\n",
    "    # Set bin width if not given.\n",
    "    if delta is None:\n",
    "        a = min(x)\n",
    "        b = max(x)\n",
    "        delta = (b - a) / (M - 1)\n",
    "\n",
    "    n = len(x)\n",
    "\n",
    "    xcounts = np.zeros(M)\n",
    "    ycounts = np.zeros(M)\n",
    "    lxi = np.zeros(n)\n",
    "    li = np.zeros(n)\n",
    "    rem = np.zeros(n)\n",
    "\n",
    "    for i in range(n):\n",
    "        lxi[i] = ((x[i] - a) / delta) + 1\n",
    "\n",
    "        # Find integer part of \"lxi\"\n",
    "        li[i] = int(lxi[i])\n",
    "        rem[i] = lxi[i] - li[i]\n",
    "\n",
    "    for g in range(M):\n",
    "        # np.where(li == g) returns a tuple with the first element\n",
    "        # being an np.ndarry containing indices. These indices denote where\n",
    "        # an entry in li is equal to the respective gridpoint g.\n",
    "        if len(np.where(li == g)[0]) > 0:\n",
    "            # In case more than one entry in li euqals g,\n",
    "            # go through all of them one by one.\n",
    "            for j in range(len(np.where(li == g)[0])):\n",
    "\n",
    "                xcounts[g - 1] += 1 - rem[np.where(li == g)[0][j]]\n",
    "                xcounts[g] += rem[np.where(li == g)[0][j]]\n",
    "\n",
    "                # If the predictor variable x is multidimensional and hence\n",
    "                # len(x) is larger than len(y), consider only values\n",
    "                # in range of y.\n",
    "                if (np.where(li == g)[0][j]) in range(len(y)):\n",
    "                    ycounts[g - 1] += (1 - rem[np.where(li == g)[0][j]]) * y[\n",
    "                        np.where(li == g)[0][j]\n",
    "                    ]\n",
    "\n",
    "                    ycounts[g] += (\n",
    "                        rem[np.where(li == g)[0][j]] * y[np.where(li == g)[0][j]]\n",
    "                    )\n",
    "\n",
    "    # By default, end observations are truncated.\n",
    "    for i in range(n):\n",
    "        if truncate is True:\n",
    "            pass\n",
    "\n",
    "        # Truncation is implicit if there are no points in li\n",
    "        # beyond the grid's boundary points.\n",
    "        elif 1 <= li[i] < M:\n",
    "            pass\n",
    "\n",
    "        # If truncate=False, weight from end observations is given to\n",
    "        # corresponding end grid points.\n",
    "        elif li[i] < 1 and truncate is False:\n",
    "            if len(np.where(li < 1)[0]) > 0:\n",
    "                for j in range(len(np.where(li < 1)[0])):\n",
    "                    xcounts[0] += 1\n",
    "                    ycounts[0] += [np.where(li < 1)[0][j]]\n",
    "\n",
    "        elif li[i] >= M and truncate is False:\n",
    "            if len(np.where(li == M)[0]) > 0:\n",
    "                for j in range(len(np.where(li == M)[0])):\n",
    "                    xcounts[M - 1] += 1\n",
    "                    ycounts[M - 1] += y[np.where(li == M)[0][j]]\n",
    "\n",
    "    return xcounts, ycounts"
   ]
  },
  {
   "cell_type": "code",
   "execution_count": null,
   "metadata": {},
   "outputs": [],
   "source": []
  },
  {
   "cell_type": "code",
   "execution_count": 13,
   "metadata": {},
   "outputs": [
    {
     "name": "stdout",
     "output_type": "stream",
     "text": [
      "295 ms ± 7.44 ms per loop (mean ± std. dev. of 7 runs, 1 loop each)\n"
     ]
    }
   ],
   "source": [
    "%timeit xcounts, ycounts = bin_counts_and_averages(x, y, M, a, delta)"
   ]
  },
  {
   "cell_type": "code",
   "execution_count": null,
   "metadata": {},
   "outputs": [],
   "source": []
  }
 ],
 "metadata": {
  "kernelspec": {
   "display_name": "Python 3",
   "language": "python",
   "name": "python3"
  },
  "language_info": {
   "codemirror_mode": {
    "name": "ipython",
    "version": 3
   },
   "file_extension": ".py",
   "mimetype": "text/x-python",
   "name": "python",
   "nbconvert_exporter": "python",
   "pygments_lexer": "ipython3",
   "version": "3.7.3"
  }
 },
 "nbformat": 4,
 "nbformat_minor": 2
}
